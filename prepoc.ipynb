{
 "cells": [
  {
   "cell_type": "markdown",
   "metadata": {},
   "source": [
    "<h1> Winner Tennis Prediction </h1>"
   ]
  },
  {
   "cell_type": "markdown",
   "metadata": {},
   "source": [
    "## Read Data"
   ]
  },
  {
   "cell_type": "markdown",
   "metadata": {},
   "source": [
    "WTA and ATP fata from github repository by <a href= 'https://github.com/JeffSackmann' >Jeff Sackmann</a>. \n",
    "\n",
    "There is a dictionary <a href='./dict.html'> dict.html </a>  made to understand the values and columns of the matches data. "
   ]
  },
  {
   "cell_type": "markdown",
   "metadata": {},
   "source": [
    "```console\n",
    "!git clone https://github.com/JeffSackmann/tennis_wta.git\n",
    "!git clone https://github.com/JeffSackmann/tennis_atp.git\n",
    "```"
   ]
  },
  {
   "cell_type": "code",
   "execution_count": 1,
   "metadata": {},
   "outputs": [],
   "source": [
    "import pandas as pd \n",
    "import numpy as np\n",
    "import matplotlib.pyplot as plt\n",
    "\n",
    "import os \n",
    "import re"
   ]
  },
  {
   "cell_type": "code",
   "execution_count": 2,
   "metadata": {},
   "outputs": [
    {
     "name": "stderr",
     "output_type": "stream",
     "text": [
      "C:\\Users\\Ferrer\\AppData\\Local\\Temp\\ipykernel_9908\\36385999.py:5: DtypeWarning: Columns (3) have mixed types. Specify dtype option on import or set low_memory=False.\n",
      "  atp_matches.append(pd.read_csv('tennis_atp/' + f, encoding='latin-1'))\n",
      "C:\\Users\\Ferrer\\AppData\\Local\\Temp\\ipykernel_9908\\36385999.py:13: DtypeWarning: Columns (8,16) have mixed types. Specify dtype option on import or set low_memory=False.\n",
      "  wta_matches.append(pd.read_csv('tennis_wta/' + f, encoding='latin-1'))\n",
      "C:\\Users\\Ferrer\\AppData\\Local\\Temp\\ipykernel_9908\\36385999.py:13: DtypeWarning: Columns (8,16) have mixed types. Specify dtype option on import or set low_memory=False.\n",
      "  wta_matches.append(pd.read_csv('tennis_wta/' + f, encoding='latin-1'))\n",
      "C:\\Users\\Ferrer\\AppData\\Local\\Temp\\ipykernel_9908\\36385999.py:13: DtypeWarning: Columns (8,16) have mixed types. Specify dtype option on import or set low_memory=False.\n",
      "  wta_matches.append(pd.read_csv('tennis_wta/' + f, encoding='latin-1'))\n"
     ]
    }
   ],
   "source": [
    "atp_matches = []\n",
    "for f in os.listdir('tennis_atp'):\n",
    "    exp_re = r'atp_matches_\\w+\\.csv'\n",
    "    if re.match(exp_re, f): \n",
    "        atp_matches.append(pd.read_csv('tennis_atp/' + f, encoding='latin-1')) \n",
    "\n",
    "match_men = pd.concat(atp_matches, ignore_index=True)\n",
    "\n",
    "wta_matches = []\n",
    "for f in os.listdir('tennis_wta'):\n",
    "    exp_re = r'wta_matches_\\w+\\.csv'\n",
    "    if re.match(exp_re, f) : \n",
    "        wta_matches.append(pd.read_csv('tennis_wta/' + f, encoding='latin-1'))\n",
    "\n",
    "match_women = pd.concat(wta_matches,  ignore_index=True)"
   ]
  },
  {
   "cell_type": "code",
   "execution_count": 3,
   "metadata": {},
   "outputs": [],
   "source": [
    "match_men['tourney_date'] = pd.to_datetime(match_men['tourney_date'].sort_values().astype('str'))\n",
    "match_women['tourney_date'] = pd.to_datetime(match_women['tourney_date'].sort_values().astype('str'))\n",
    "\n",
    "match_men = match_men[match_men['tourney_date'] >= '2000'].sort_values(by='tourney_date')\n",
    "match_women = match_women[match_women['tourney_date'] >= '2000'].sort_values(by='tourney_date')"
   ]
  },
  {
   "cell_type": "code",
   "execution_count": 4,
   "metadata": {},
   "outputs": [
    {
     "name": "stdout",
     "output_type": "stream",
     "text": [
      "draw_size\n"
     ]
    }
   ],
   "source": [
    "## FIX FOR DTYPE ERROR VALUE ON COLUMN 3\n",
    "print(match_men.columns[3])\n",
    "match_men.draw_size.unique()\n",
    "\n",
    "for idx, d in enumerate(match_men['draw_size']):\n",
    "    try: float(d)\n",
    "    except ValueError: match_men.loc[idx, 'draw_size'] = np.NaN\n",
    "    \n",
    "match_men['draw_size'] = match_men.draw_size.astype(np.float32)"
   ]
  },
  {
   "cell_type": "code",
   "execution_count": 5,
   "metadata": {},
   "outputs": [],
   "source": [
    "## FIX FOR DTYPE ERROR ON COLUMNS 8, 16\n",
    "for idx, seed, entry in zip(match_women.index, match_women['winner_seed'], match_women['winner_seed']):\n",
    "    try: float(seed)\n",
    "    except ValueError: \n",
    "        match_women.loc[idx, 'winner_seed'] = np.NaN\n",
    "        match_women.loc[idx, 'winner_entry'] = seed\n",
    "    \n",
    "match_women['winner_seed'] = match_women.draw_size.astype(np.float32)\n",
    "\n",
    "for idx, seed, entry in zip(match_women.index, match_women['loser_seed'], match_women['loser_seed']):\n",
    "    try: float(seed)\n",
    "    except ValueError: \n",
    "        match_women.loc[idx, 'loser_seed'] = np.NaN\n",
    "        match_women.loc[idx, 'loser_entry'] = seed\n",
    "    \n",
    "match_women['loser_seed'] = match_women.draw_size.astype(np.float32)\n"
   ]
  },
  {
   "cell_type": "code",
   "execution_count": 6,
   "metadata": {},
   "outputs": [
    {
     "name": "stderr",
     "output_type": "stream",
     "text": [
      "C:\\Users\\Ferrer\\AppData\\Local\\Temp\\ipykernel_9908\\2248765508.py:2: DtypeWarning: Columns (7) have mixed types. Specify dtype option on import or set low_memory=False.\n",
      "  players_women = pd.read_csv('tennis_wta/wta_players.csv').drop_duplicates(subset='player_id')\n"
     ]
    }
   ],
   "source": [
    "players_men = pd.read_csv('tennis_atp/atp_players.csv').drop_duplicates(subset='player_id')\n",
    "players_women = pd.read_csv('tennis_wta/wta_players.csv').drop_duplicates(subset='player_id')"
   ]
  },
  {
   "cell_type": "code",
   "execution_count": 7,
   "metadata": {},
   "outputs": [],
   "source": [
    "## Keep only the players that are in the matches \n",
    "players_women = players_women[(players_women.player_id.isin(match_women.loser_id) | players_women.player_id.isin(match_women.loser_id))]\n",
    "players_men = players_men[(players_men.player_id.isin(match_men.loser_id) | players_men.player_id.isin(match_men.loser_id))]"
   ]
  },
  {
   "cell_type": "code",
   "execution_count": 8,
   "metadata": {},
   "outputs": [
    {
     "data": {
      "text/plain": [
       "2109"
      ]
     },
     "execution_count": 8,
     "metadata": {},
     "output_type": "execute_result"
    }
   ],
   "source": [
    "players = pd.concat([players_men, players_women], ignore_index=True).drop(columns='wikidata_id')\n",
    "players.player_id.duplicated().sum() #there are ids duplicated"
   ]
  },
  {
   "cell_type": "markdown",
   "metadata": {},
   "source": [
    "There are 2109 players that have duplicated id  in between men and man!\n",
    "Lets create new ids and ignore the existing ones, with a new attribute to indicate wether they are men or women. "
   ]
  },
  {
   "cell_type": "code",
   "execution_count": 9,
   "metadata": {},
   "outputs": [
    {
     "data": {
      "text/html": [
       "<div>\n",
       "<style scoped>\n",
       "    .dataframe tbody tr th:only-of-type {\n",
       "        vertical-align: middle;\n",
       "    }\n",
       "\n",
       "    .dataframe tbody tr th {\n",
       "        vertical-align: top;\n",
       "    }\n",
       "\n",
       "    .dataframe thead th {\n",
       "        text-align: right;\n",
       "    }\n",
       "</style>\n",
       "<table border=\"1\" class=\"dataframe\">\n",
       "  <thead>\n",
       "    <tr style=\"text-align: right;\">\n",
       "      <th></th>\n",
       "      <th>player_id</th>\n",
       "      <th>name_first</th>\n",
       "      <th>name_last</th>\n",
       "      <th>hand</th>\n",
       "      <th>dob</th>\n",
       "      <th>ioc</th>\n",
       "      <th>height</th>\n",
       "      <th>new_id</th>\n",
       "      <th>gender</th>\n",
       "    </tr>\n",
       "  </thead>\n",
       "  <tbody>\n",
       "    <tr>\n",
       "      <th>0</th>\n",
       "      <td>100428</td>\n",
       "      <td>Gene</td>\n",
       "      <td>Mayer</td>\n",
       "      <td>R</td>\n",
       "      <td>19560411.0</td>\n",
       "      <td>USA</td>\n",
       "      <td>183.0</td>\n",
       "      <td>0</td>\n",
       "      <td>M</td>\n",
       "    </tr>\n",
       "    <tr>\n",
       "      <th>1</th>\n",
       "      <td>100644</td>\n",
       "      <td>Alexander</td>\n",
       "      <td>Zverev</td>\n",
       "      <td>R</td>\n",
       "      <td>19970420.0</td>\n",
       "      <td>GER</td>\n",
       "      <td>198.0</td>\n",
       "      <td>1</td>\n",
       "      <td>M</td>\n",
       "    </tr>\n",
       "    <tr>\n",
       "      <th>2</th>\n",
       "      <td>100754</td>\n",
       "      <td>Rafael</td>\n",
       "      <td>Avalos Brenes</td>\n",
       "      <td>R</td>\n",
       "      <td>19610621.0</td>\n",
       "      <td>CRC</td>\n",
       "      <td>NaN</td>\n",
       "      <td>2</td>\n",
       "      <td>M</td>\n",
       "    </tr>\n",
       "    <tr>\n",
       "      <th>3</th>\n",
       "      <td>100886</td>\n",
       "      <td>Gregg</td>\n",
       "      <td>Hill</td>\n",
       "      <td>R</td>\n",
       "      <td>19630104.0</td>\n",
       "      <td>USA</td>\n",
       "      <td>NaN</td>\n",
       "      <td>3</td>\n",
       "      <td>M</td>\n",
       "    </tr>\n",
       "    <tr>\n",
       "      <th>4</th>\n",
       "      <td>100943</td>\n",
       "      <td>Girts</td>\n",
       "      <td>Dzelde</td>\n",
       "      <td>R</td>\n",
       "      <td>19630716.0</td>\n",
       "      <td>LAT</td>\n",
       "      <td>173.0</td>\n",
       "      <td>4</td>\n",
       "      <td>M</td>\n",
       "    </tr>\n",
       "    <tr>\n",
       "      <th>...</th>\n",
       "      <td>...</td>\n",
       "      <td>...</td>\n",
       "      <td>...</td>\n",
       "      <td>...</td>\n",
       "      <td>...</td>\n",
       "      <td>...</td>\n",
       "      <td>...</td>\n",
       "      <td>...</td>\n",
       "      <td>...</td>\n",
       "    </tr>\n",
       "    <tr>\n",
       "      <th>28186</th>\n",
       "      <td>266635</td>\n",
       "      <td>Vaary</td>\n",
       "      <td>Shah</td>\n",
       "      <td>U</td>\n",
       "      <td>NaN</td>\n",
       "      <td>IND</td>\n",
       "      <td>NaN</td>\n",
       "      <td>28186</td>\n",
       "      <td>W</td>\n",
       "    </tr>\n",
       "    <tr>\n",
       "      <th>28187</th>\n",
       "      <td>266636</td>\n",
       "      <td>Danica</td>\n",
       "      <td>Fernando</td>\n",
       "      <td>U</td>\n",
       "      <td>NaN</td>\n",
       "      <td>IND</td>\n",
       "      <td>NaN</td>\n",
       "      <td>28187</td>\n",
       "      <td>W</td>\n",
       "    </tr>\n",
       "    <tr>\n",
       "      <th>28188</th>\n",
       "      <td>266637</td>\n",
       "      <td>Gia Alana</td>\n",
       "      <td>Pereira</td>\n",
       "      <td>U</td>\n",
       "      <td>NaN</td>\n",
       "      <td>IND</td>\n",
       "      <td>NaN</td>\n",
       "      <td>28188</td>\n",
       "      <td>W</td>\n",
       "    </tr>\n",
       "    <tr>\n",
       "      <th>28189</th>\n",
       "      <td>266638</td>\n",
       "      <td>Kyra</td>\n",
       "      <td>Shetty</td>\n",
       "      <td>U</td>\n",
       "      <td>NaN</td>\n",
       "      <td>IND</td>\n",
       "      <td>NaN</td>\n",
       "      <td>28189</td>\n",
       "      <td>W</td>\n",
       "    </tr>\n",
       "    <tr>\n",
       "      <th>28190</th>\n",
       "      <td>266639</td>\n",
       "      <td>Fabiola</td>\n",
       "      <td>Marino</td>\n",
       "      <td>U</td>\n",
       "      <td>NaN</td>\n",
       "      <td>ITA</td>\n",
       "      <td>NaN</td>\n",
       "      <td>28190</td>\n",
       "      <td>W</td>\n",
       "    </tr>\n",
       "  </tbody>\n",
       "</table>\n",
       "<p>28191 rows × 9 columns</p>\n",
       "</div>"
      ],
      "text/plain": [
       "       player_id name_first      name_last hand         dob  ioc  height  \\\n",
       "0         100428       Gene          Mayer    R  19560411.0  USA   183.0   \n",
       "1         100644  Alexander         Zverev    R  19970420.0  GER   198.0   \n",
       "2         100754     Rafael  Avalos Brenes    R  19610621.0  CRC     NaN   \n",
       "3         100886      Gregg           Hill    R  19630104.0  USA     NaN   \n",
       "4         100943      Girts         Dzelde    R  19630716.0  LAT   173.0   \n",
       "...          ...        ...            ...  ...         ...  ...     ...   \n",
       "28186     266635      Vaary           Shah    U         NaN  IND     NaN   \n",
       "28187     266636     Danica       Fernando    U         NaN  IND     NaN   \n",
       "28188     266637  Gia Alana        Pereira    U         NaN  IND     NaN   \n",
       "28189     266638       Kyra         Shetty    U         NaN  IND     NaN   \n",
       "28190     266639    Fabiola         Marino    U         NaN  ITA     NaN   \n",
       "\n",
       "       new_id gender  \n",
       "0           0      M  \n",
       "1           1      M  \n",
       "2           2      M  \n",
       "3           3      M  \n",
       "4           4      M  \n",
       "...       ...    ...  \n",
       "28186   28186      W  \n",
       "28187   28187      W  \n",
       "28188   28188      W  \n",
       "28189   28189      W  \n",
       "28190   28190      W  \n",
       "\n",
       "[28191 rows x 9 columns]"
      ]
     },
     "execution_count": 9,
     "metadata": {},
     "output_type": "execute_result"
    }
   ],
   "source": [
    "players['new_id'] = players.index\n",
    "players['gender'] = ['M']*len(players_men) + ['W']*len(players_women)\n",
    "players"
   ]
  },
  {
   "cell_type": "code",
   "execution_count": 10,
   "metadata": {},
   "outputs": [
    {
     "data": {
      "text/plain": [
       "height        25576\n",
       "dob            3807\n",
       "hand             13\n",
       "ioc               9\n",
       "player_id         0\n",
       "name_first        0\n",
       "name_last         0\n",
       "new_id            0\n",
       "gender            0\n",
       "dtype: int64"
      ]
     },
     "execution_count": 10,
     "metadata": {},
     "output_type": "execute_result"
    }
   ],
   "source": [
    "players.isna().sum(axis=0).sort_values(ascending=False)"
   ]
  },
  {
   "cell_type": "code",
   "execution_count": 11,
   "metadata": {},
   "outputs": [],
   "source": [
    "## FILL & STANDARD COUNTRY CODE \n",
    "\n",
    "## Wrong labeled acronymns \n",
    "\n",
    "abb = {\n",
    "    'RSA': 'ZAF', 'SUI': 'CHE', 'GER': 'DEU', 'ZIM': 'ZWE', 'CRO': 'HRV', 'NED': 'NLD', 'MON': 'MCO', 'BAH': 'BHS', 'GRE': 'GRC',\n",
    "       'POR': 'PRT', 'CHI': 'CHL', 'PAR': 'PRY', 'GUA': 'GTM', 'CRC': 'CRI', 'TPE': 'CHN', 'MAS': 'MYS', 'IRI': 'IRN', 'INA': 'IDN',\n",
    "       'LIB': 'LBN', 'PHI': 'PHL', 'URU': 'URY', 'DEN': 'DNK', 'SLO': 'SVN', 'BUL': 'BGR', 'LAT': 'LVA', 'KUW': 'KWT', 'AHO': 'ANT',\n",
    "       'ALG': 'DZA', 'HAI': 'HTI', 'PUR': 'PRI', 'SOL': 'SLB', 'SAM': 'WSM', 'ESA': 'SLV', 'OMA': 'OMN', 'SRI': 'LKA', 'BAR': 'BRB',\n",
    "       'MAD': 'MDG', 'VIE': 'VNM', 'UNK': None, 'SCG': 'MNE', 'ANG': 'AGO', 'LES': 'LSO', 'BOT': 'BWA', 'MRI': 'MUS', 'POC': 'ASM',\n",
    "       'FIJ': 'FJI', 'BER': 'BMU', 'HON': 'HND', 'MGL': 'MNG', 'TRI': 'TTO', 'NGR': 'NGA', 'VAN': 'VUT', 'ECA' : 'VCT'\n",
    "\n",
    "}\n",
    "\n",
    "ioc_data = pd.read_csv(\"countries_codes_and_coordinates.csv\")\n",
    "ioc_data['Alpha-2 code'] = ioc_data['Alpha-2 code'].str.replace(r\"[^\\w]\", \"\", regex=True)\n",
    "ioc_data['Alpha-3 code'] = ioc_data['Alpha-3 code'].str.replace(r\"[^\\w]\", \"\", regex=True)\n",
    "\n",
    "players['ioc'] = players.ioc.map(lambda x : abb.get(x, x)) "
   ]
  },
  {
   "cell_type": "code",
   "execution_count": 13,
   "metadata": {},
   "outputs": [],
   "source": [
    "## FILL MISSING DATE OF BIRTH WITH MEAN\n",
    "aaa . \n",
    "## assign by gender+ioc\n",
    "mean_dobs = players.groupby(by=['gender', 'ioc'])['dob'].transform('mean')\n",
    "players['dob'] = players['dob'].fillna(mean_dobs)\n",
    "\n",
    "## assign by gender\n",
    "mean_dobs = players.groupby(by=['gender'])['dob'].transform('mean')\n",
    "players['dob'] = players['dob'].fillna(mean_dobs)\n",
    "\n",
    "\n",
    "players['dob'] = pd.to_datetime(players.dob)"
   ]
  },
  {
   "cell_type": "code",
   "execution_count": 14,
   "metadata": {},
   "outputs": [],
   "source": [
    "## FILL MISSING HEIGHT WITH MEAN\n",
    "\n",
    "## assign by gender+dob+ioc\n",
    "mean_heights = players.groupby(by=['gender', 'dob', 'ioc'])['height'].transform('mean')\n",
    "players['height'] = players['height'].fillna(mean_heights)\n",
    "\n",
    "## assign by gender+dob\n",
    "mean_heights = players.groupby(by=['gender', 'dob'])['height'].transform('mean')\n",
    "players['height'] = players['height'].fillna(mean_heights)\n",
    "\n",
    "## assign by gender\n",
    "mean_heights = players.groupby(by=['gender'])['height'].transform('mean')\n",
    "players['height'] = players['height'].fillna(mean_heights)"
   ]
  },
  {
   "cell_type": "code",
   "execution_count": 15,
   "metadata": {},
   "outputs": [
    {
     "name": "stdout",
     "output_type": "stream",
     "text": [
      "['R' 'L' 'A' 'U' nan] U\n"
     ]
    }
   ],
   "source": [
    "## FILL MISSING HAND WITH MEAN\n",
    "\n",
    "## assign by gender\n",
    "most_frequent_hand = players['hand'].mode().iloc[0] \n",
    "print(players.hand.unique(), most_frequent_hand)\n",
    "\n",
    "players['hand'] = players['hand'].fillna(most_frequent_hand)"
   ]
  },
  {
   "cell_type": "code",
   "execution_count": 16,
   "metadata": {},
   "outputs": [],
   "source": [
    "## NEW ID FOR MEN\n",
    "\n",
    "# reset the index for the matched \n",
    "map_men = dict({int(k):id for k, id in zip(players.loc[players['gender']=='M', 'player_id'],\n",
    "                                     players.loc[players['gender']=='M', 'new_id'])})\n",
    "match_men['winner_id'] = match_men.winner_id.map(map_men)\n",
    "match_men['loser_id'] = match_men.loser_id.map(map_men)"
   ]
  },
  {
   "cell_type": "code",
   "execution_count": 17,
   "metadata": {},
   "outputs": [],
   "source": [
    "## NEW ID FOR WOMEN\n",
    "\n",
    "map_women = dict({int(k):id for k, id in zip(players.loc[players['gender']=='W', 'player_id'],\n",
    "                                     players.loc[players['gender']=='W', 'new_id'])})\n",
    "match_women['winner_id'] = match_women.winner_id.map(map_women)\n",
    "match_women['loser_id'] = match_women.loser_id.map(map_women)"
   ]
  },
  {
   "cell_type": "code",
   "execution_count": 18,
   "metadata": {},
   "outputs": [
    {
     "data": {
      "text/html": [
       "<div>\n",
       "<style scoped>\n",
       "    .dataframe tbody tr th:only-of-type {\n",
       "        vertical-align: middle;\n",
       "    }\n",
       "\n",
       "    .dataframe tbody tr th {\n",
       "        vertical-align: top;\n",
       "    }\n",
       "\n",
       "    .dataframe thead th {\n",
       "        text-align: right;\n",
       "    }\n",
       "</style>\n",
       "<table border=\"1\" class=\"dataframe\">\n",
       "  <thead>\n",
       "    <tr style=\"text-align: right;\">\n",
       "      <th></th>\n",
       "      <th>tourney_id</th>\n",
       "      <th>tourney_name</th>\n",
       "      <th>surface</th>\n",
       "      <th>draw_size</th>\n",
       "      <th>tourney_level</th>\n",
       "      <th>tourney_date</th>\n",
       "      <th>match_num</th>\n",
       "      <th>winner_id</th>\n",
       "      <th>winner_seed</th>\n",
       "      <th>winner_entry</th>\n",
       "      <th>...</th>\n",
       "      <th>l_1stIn</th>\n",
       "      <th>l_1stWon</th>\n",
       "      <th>l_2ndWon</th>\n",
       "      <th>l_SvGms</th>\n",
       "      <th>l_bpSaved</th>\n",
       "      <th>l_bpFaced</th>\n",
       "      <th>winner_rank</th>\n",
       "      <th>winner_rank_points</th>\n",
       "      <th>loser_rank</th>\n",
       "      <th>loser_rank_points</th>\n",
       "    </tr>\n",
       "  </thead>\n",
       "  <tbody>\n",
       "    <tr>\n",
       "      <th>0</th>\n",
       "      <td>2000-339</td>\n",
       "      <td>Adelaide</td>\n",
       "      <td>Hard</td>\n",
       "      <td>32.0</td>\n",
       "      <td>A</td>\n",
       "      <td>2000-01-03</td>\n",
       "      <td>19</td>\n",
       "      <td>454.0</td>\n",
       "      <td>3.0</td>\n",
       "      <td>NaN</td>\n",
       "      <td>...</td>\n",
       "      <td>40.0</td>\n",
       "      <td>28.0</td>\n",
       "      <td>9.0</td>\n",
       "      <td>11.0</td>\n",
       "      <td>1.0</td>\n",
       "      <td>4.0</td>\n",
       "      <td>15.0</td>\n",
       "      <td>1748.0</td>\n",
       "      <td>78.0</td>\n",
       "      <td>572.0</td>\n",
       "    </tr>\n",
       "    <tr>\n",
       "      <th>1</th>\n",
       "      <td>2000-339</td>\n",
       "      <td>Adelaide</td>\n",
       "      <td>Hard</td>\n",
       "      <td>32.0</td>\n",
       "      <td>A</td>\n",
       "      <td>2000-01-03</td>\n",
       "      <td>13</td>\n",
       "      <td>431.0</td>\n",
       "      <td>8.0</td>\n",
       "      <td>NaN</td>\n",
       "      <td>...</td>\n",
       "      <td>53.0</td>\n",
       "      <td>37.0</td>\n",
       "      <td>27.0</td>\n",
       "      <td>16.0</td>\n",
       "      <td>3.0</td>\n",
       "      <td>7.0</td>\n",
       "      <td>37.0</td>\n",
       "      <td>995.0</td>\n",
       "      <td>654.0</td>\n",
       "      <td>24.0</td>\n",
       "    </tr>\n",
       "    <tr>\n",
       "      <th>2</th>\n",
       "      <td>2000-339</td>\n",
       "      <td>Adelaide</td>\n",
       "      <td>Hard</td>\n",
       "      <td>32.0</td>\n",
       "      <td>A</td>\n",
       "      <td>2000-01-03</td>\n",
       "      <td>14</td>\n",
       "      <td>67.0</td>\n",
       "      <td>NaN</td>\n",
       "      <td>NaN</td>\n",
       "      <td>...</td>\n",
       "      <td>35.0</td>\n",
       "      <td>23.0</td>\n",
       "      <td>8.0</td>\n",
       "      <td>9.0</td>\n",
       "      <td>3.0</td>\n",
       "      <td>7.0</td>\n",
       "      <td>63.0</td>\n",
       "      <td>763.0</td>\n",
       "      <td>77.0</td>\n",
       "      <td>581.0</td>\n",
       "    </tr>\n",
       "    <tr>\n",
       "      <th>3</th>\n",
       "      <td>2000-339</td>\n",
       "      <td>Adelaide</td>\n",
       "      <td>Hard</td>\n",
       "      <td>32.0</td>\n",
       "      <td>A</td>\n",
       "      <td>2000-01-03</td>\n",
       "      <td>15</td>\n",
       "      <td>837.0</td>\n",
       "      <td>NaN</td>\n",
       "      <td>NaN</td>\n",
       "      <td>...</td>\n",
       "      <td>67.0</td>\n",
       "      <td>57.0</td>\n",
       "      <td>22.0</td>\n",
       "      <td>17.0</td>\n",
       "      <td>3.0</td>\n",
       "      <td>6.0</td>\n",
       "      <td>138.0</td>\n",
       "      <td>336.0</td>\n",
       "      <td>351.0</td>\n",
       "      <td>103.0</td>\n",
       "    </tr>\n",
       "    <tr>\n",
       "      <th>4</th>\n",
       "      <td>2000-339</td>\n",
       "      <td>Adelaide</td>\n",
       "      <td>Hard</td>\n",
       "      <td>32.0</td>\n",
       "      <td>A</td>\n",
       "      <td>2000-01-03</td>\n",
       "      <td>16</td>\n",
       "      <td>292.0</td>\n",
       "      <td>2.0</td>\n",
       "      <td>NaN</td>\n",
       "      <td>...</td>\n",
       "      <td>55.0</td>\n",
       "      <td>40.0</td>\n",
       "      <td>12.0</td>\n",
       "      <td>11.0</td>\n",
       "      <td>8.0</td>\n",
       "      <td>10.0</td>\n",
       "      <td>12.0</td>\n",
       "      <td>1920.0</td>\n",
       "      <td>216.0</td>\n",
       "      <td>188.0</td>\n",
       "    </tr>\n",
       "  </tbody>\n",
       "</table>\n",
       "<p>5 rows × 49 columns</p>\n",
       "</div>"
      ],
      "text/plain": [
       "  tourney_id tourney_name surface  draw_size tourney_level tourney_date  \\\n",
       "0   2000-339     Adelaide    Hard       32.0             A   2000-01-03   \n",
       "1   2000-339     Adelaide    Hard       32.0             A   2000-01-03   \n",
       "2   2000-339     Adelaide    Hard       32.0             A   2000-01-03   \n",
       "3   2000-339     Adelaide    Hard       32.0             A   2000-01-03   \n",
       "4   2000-339     Adelaide    Hard       32.0             A   2000-01-03   \n",
       "\n",
       "   match_num  winner_id  winner_seed winner_entry  ... l_1stIn l_1stWon  \\\n",
       "0         19      454.0          3.0          NaN  ...    40.0     28.0   \n",
       "1         13      431.0          8.0          NaN  ...    53.0     37.0   \n",
       "2         14       67.0          NaN          NaN  ...    35.0     23.0   \n",
       "3         15      837.0          NaN          NaN  ...    67.0     57.0   \n",
       "4         16      292.0          2.0          NaN  ...    55.0     40.0   \n",
       "\n",
       "   l_2ndWon l_SvGms  l_bpSaved  l_bpFaced  winner_rank winner_rank_points  \\\n",
       "0       9.0    11.0        1.0        4.0         15.0             1748.0   \n",
       "1      27.0    16.0        3.0        7.0         37.0              995.0   \n",
       "2       8.0     9.0        3.0        7.0         63.0              763.0   \n",
       "3      22.0    17.0        3.0        6.0        138.0              336.0   \n",
       "4      12.0    11.0        8.0       10.0         12.0             1920.0   \n",
       "\n",
       "  loser_rank loser_rank_points  \n",
       "0       78.0             572.0  \n",
       "1      654.0              24.0  \n",
       "2       77.0             581.0  \n",
       "3      351.0             103.0  \n",
       "4      216.0             188.0  \n",
       "\n",
       "[5 rows x 49 columns]"
      ]
     },
     "execution_count": 18,
     "metadata": {},
     "output_type": "execute_result"
    }
   ],
   "source": [
    "## Final Dataset for both TMA & WTA\n",
    "matches = pd.concat([match_men, match_women], ignore_index=True)\n",
    "matches.head()"
   ]
  },
  {
   "cell_type": "code",
   "execution_count": 19,
   "metadata": {},
   "outputs": [
    {
     "data": {
      "text/html": [
       "<div>\n",
       "<style scoped>\n",
       "    .dataframe tbody tr th:only-of-type {\n",
       "        vertical-align: middle;\n",
       "    }\n",
       "\n",
       "    .dataframe tbody tr th {\n",
       "        vertical-align: top;\n",
       "    }\n",
       "\n",
       "    .dataframe thead th {\n",
       "        text-align: right;\n",
       "    }\n",
       "</style>\n",
       "<table border=\"1\" class=\"dataframe\">\n",
       "  <thead>\n",
       "    <tr style=\"text-align: right;\">\n",
       "      <th></th>\n",
       "      <th>tourney_id</th>\n",
       "      <th>tourney_name</th>\n",
       "      <th>surface</th>\n",
       "      <th>draw_size</th>\n",
       "      <th>tourney_level</th>\n",
       "      <th>tourney_date</th>\n",
       "      <th>match_num</th>\n",
       "      <th>winner_id</th>\n",
       "      <th>winner_seed</th>\n",
       "      <th>winner_entry</th>\n",
       "      <th>...</th>\n",
       "      <th>l_1stIn</th>\n",
       "      <th>l_1stWon</th>\n",
       "      <th>l_2ndWon</th>\n",
       "      <th>l_SvGms</th>\n",
       "      <th>l_bpSaved</th>\n",
       "      <th>l_bpFaced</th>\n",
       "      <th>winner_rank</th>\n",
       "      <th>winner_rank_points</th>\n",
       "      <th>loser_rank</th>\n",
       "      <th>loser_rank_points</th>\n",
       "    </tr>\n",
       "  </thead>\n",
       "  <tbody>\n",
       "    <tr>\n",
       "      <th>0</th>\n",
       "      <td>2000-339</td>\n",
       "      <td>Adelaide</td>\n",
       "      <td>Hard</td>\n",
       "      <td>32.0</td>\n",
       "      <td>A</td>\n",
       "      <td>2000-01-03</td>\n",
       "      <td>19</td>\n",
       "      <td>454.0</td>\n",
       "      <td>3.0</td>\n",
       "      <td>NaN</td>\n",
       "      <td>...</td>\n",
       "      <td>40.0</td>\n",
       "      <td>28.0</td>\n",
       "      <td>9.0</td>\n",
       "      <td>11.0</td>\n",
       "      <td>1.0</td>\n",
       "      <td>4.0</td>\n",
       "      <td>15.0</td>\n",
       "      <td>1748.0</td>\n",
       "      <td>78.0</td>\n",
       "      <td>572.0</td>\n",
       "    </tr>\n",
       "    <tr>\n",
       "      <th>1</th>\n",
       "      <td>2000-339</td>\n",
       "      <td>Adelaide</td>\n",
       "      <td>Hard</td>\n",
       "      <td>32.0</td>\n",
       "      <td>A</td>\n",
       "      <td>2000-01-03</td>\n",
       "      <td>13</td>\n",
       "      <td>431.0</td>\n",
       "      <td>8.0</td>\n",
       "      <td>NaN</td>\n",
       "      <td>...</td>\n",
       "      <td>53.0</td>\n",
       "      <td>37.0</td>\n",
       "      <td>27.0</td>\n",
       "      <td>16.0</td>\n",
       "      <td>3.0</td>\n",
       "      <td>7.0</td>\n",
       "      <td>37.0</td>\n",
       "      <td>995.0</td>\n",
       "      <td>654.0</td>\n",
       "      <td>24.0</td>\n",
       "    </tr>\n",
       "    <tr>\n",
       "      <th>2</th>\n",
       "      <td>2000-339</td>\n",
       "      <td>Adelaide</td>\n",
       "      <td>Hard</td>\n",
       "      <td>32.0</td>\n",
       "      <td>A</td>\n",
       "      <td>2000-01-03</td>\n",
       "      <td>14</td>\n",
       "      <td>67.0</td>\n",
       "      <td>NaN</td>\n",
       "      <td>NaN</td>\n",
       "      <td>...</td>\n",
       "      <td>35.0</td>\n",
       "      <td>23.0</td>\n",
       "      <td>8.0</td>\n",
       "      <td>9.0</td>\n",
       "      <td>3.0</td>\n",
       "      <td>7.0</td>\n",
       "      <td>63.0</td>\n",
       "      <td>763.0</td>\n",
       "      <td>77.0</td>\n",
       "      <td>581.0</td>\n",
       "    </tr>\n",
       "    <tr>\n",
       "      <th>3</th>\n",
       "      <td>2000-339</td>\n",
       "      <td>Adelaide</td>\n",
       "      <td>Hard</td>\n",
       "      <td>32.0</td>\n",
       "      <td>A</td>\n",
       "      <td>2000-01-03</td>\n",
       "      <td>15</td>\n",
       "      <td>837.0</td>\n",
       "      <td>NaN</td>\n",
       "      <td>NaN</td>\n",
       "      <td>...</td>\n",
       "      <td>67.0</td>\n",
       "      <td>57.0</td>\n",
       "      <td>22.0</td>\n",
       "      <td>17.0</td>\n",
       "      <td>3.0</td>\n",
       "      <td>6.0</td>\n",
       "      <td>138.0</td>\n",
       "      <td>336.0</td>\n",
       "      <td>351.0</td>\n",
       "      <td>103.0</td>\n",
       "    </tr>\n",
       "    <tr>\n",
       "      <th>4</th>\n",
       "      <td>2000-339</td>\n",
       "      <td>Adelaide</td>\n",
       "      <td>Hard</td>\n",
       "      <td>32.0</td>\n",
       "      <td>A</td>\n",
       "      <td>2000-01-03</td>\n",
       "      <td>16</td>\n",
       "      <td>292.0</td>\n",
       "      <td>2.0</td>\n",
       "      <td>NaN</td>\n",
       "      <td>...</td>\n",
       "      <td>55.0</td>\n",
       "      <td>40.0</td>\n",
       "      <td>12.0</td>\n",
       "      <td>11.0</td>\n",
       "      <td>8.0</td>\n",
       "      <td>10.0</td>\n",
       "      <td>12.0</td>\n",
       "      <td>1920.0</td>\n",
       "      <td>216.0</td>\n",
       "      <td>188.0</td>\n",
       "    </tr>\n",
       "  </tbody>\n",
       "</table>\n",
       "<p>5 rows × 49 columns</p>\n",
       "</div>"
      ],
      "text/plain": [
       "  tourney_id tourney_name surface  draw_size tourney_level tourney_date  \\\n",
       "0   2000-339     Adelaide    Hard       32.0             A   2000-01-03   \n",
       "1   2000-339     Adelaide    Hard       32.0             A   2000-01-03   \n",
       "2   2000-339     Adelaide    Hard       32.0             A   2000-01-03   \n",
       "3   2000-339     Adelaide    Hard       32.0             A   2000-01-03   \n",
       "4   2000-339     Adelaide    Hard       32.0             A   2000-01-03   \n",
       "\n",
       "   match_num  winner_id  winner_seed winner_entry  ... l_1stIn l_1stWon  \\\n",
       "0         19      454.0          3.0          NaN  ...    40.0     28.0   \n",
       "1         13      431.0          8.0          NaN  ...    53.0     37.0   \n",
       "2         14       67.0          NaN          NaN  ...    35.0     23.0   \n",
       "3         15      837.0          NaN          NaN  ...    67.0     57.0   \n",
       "4         16      292.0          2.0          NaN  ...    55.0     40.0   \n",
       "\n",
       "   l_2ndWon l_SvGms  l_bpSaved  l_bpFaced  winner_rank winner_rank_points  \\\n",
       "0       9.0    11.0        1.0        4.0         15.0             1748.0   \n",
       "1      27.0    16.0        3.0        7.0         37.0              995.0   \n",
       "2       8.0     9.0        3.0        7.0         63.0              763.0   \n",
       "3      22.0    17.0        3.0        6.0        138.0              336.0   \n",
       "4      12.0    11.0        8.0       10.0         12.0             1920.0   \n",
       "\n",
       "  loser_rank loser_rank_points  \n",
       "0       78.0             572.0  \n",
       "1      654.0              24.0  \n",
       "2       77.0             581.0  \n",
       "3      351.0             103.0  \n",
       "4      216.0             188.0  \n",
       "\n",
       "[5 rows x 49 columns]"
      ]
     },
     "execution_count": 19,
     "metadata": {},
     "output_type": "execute_result"
    }
   ],
   "source": [
    "## Update de matches ioc with players ioc \n",
    "\n",
    "matches['winner_ioc'] = matches.winner_ioc.map(lambda x : abb.get(x, x)) \n",
    "matches['loser_ioc'] = matches.loser_ioc.map(lambda x : abb.get(x, x)) \n",
    "\n",
    "matches.head()"
   ]
  },
  {
   "cell_type": "markdown",
   "metadata": {},
   "source": [
    "## Feature & Samples definition"
   ]
  },
  {
   "cell_type": "markdown",
   "metadata": {},
   "source": [
    "### Pre-game dataset"
   ]
  },
  {
   "cell_type": "code",
   "execution_count": 20,
   "metadata": {},
   "outputs": [],
   "source": [
    "## Remove Arbitrary info \n",
    "df = matches.drop(columns=['match_num', 'tourney_id'])\n",
    "\n",
    "## Remove in-game stats \n",
    "df = df.drop(list(df.filter(regex='ace|df|svpt|1stIn|1stWon|2ndWon|SvGms|bpSaved|bpFaced|minutes')), axis=1)\n",
    "\n",
    "## All str into upper case, just to avoid confusion\n",
    "for col in df.columns:\n",
    "    if df[col].dtype == 'object': df[col] = df[col].str.upper()\n"
   ]
  },
  {
   "cell_type": "code",
   "execution_count": 21,
   "metadata": {},
   "outputs": [
    {
     "data": {
      "text/html": [
       "<div>\n",
       "<style scoped>\n",
       "    .dataframe tbody tr th:only-of-type {\n",
       "        vertical-align: middle;\n",
       "    }\n",
       "\n",
       "    .dataframe tbody tr th {\n",
       "        vertical-align: top;\n",
       "    }\n",
       "\n",
       "    .dataframe thead th {\n",
       "        text-align: right;\n",
       "    }\n",
       "</style>\n",
       "<table border=\"1\" class=\"dataframe\">\n",
       "  <thead>\n",
       "    <tr style=\"text-align: right;\">\n",
       "      <th></th>\n",
       "      <th>tourney_name</th>\n",
       "      <th>draw_size</th>\n",
       "      <th>tourney_level</th>\n",
       "      <th>tourney_date</th>\n",
       "      <th>winner_id</th>\n",
       "      <th>winner_seed</th>\n",
       "      <th>winner_entry</th>\n",
       "      <th>winner_name</th>\n",
       "      <th>winner_hand</th>\n",
       "      <th>winner_ht</th>\n",
       "      <th>...</th>\n",
       "      <th>loser_ht</th>\n",
       "      <th>loser_ioc</th>\n",
       "      <th>loser_age</th>\n",
       "      <th>score</th>\n",
       "      <th>best_of</th>\n",
       "      <th>round</th>\n",
       "      <th>winner_rank</th>\n",
       "      <th>winner_rank_points</th>\n",
       "      <th>loser_rank</th>\n",
       "      <th>loser_rank_points</th>\n",
       "    </tr>\n",
       "  </thead>\n",
       "  <tbody>\n",
       "    <tr>\n",
       "      <th>0</th>\n",
       "      <td>ADELAIDE</td>\n",
       "      <td>32.0</td>\n",
       "      <td>A</td>\n",
       "      <td>2000-01-03</td>\n",
       "      <td>454.0</td>\n",
       "      <td>3.0</td>\n",
       "      <td>NaN</td>\n",
       "      <td>MAGNUS NORMAN</td>\n",
       "      <td>R</td>\n",
       "      <td>188.0</td>\n",
       "      <td>...</td>\n",
       "      <td>196.0</td>\n",
       "      <td>AUS</td>\n",
       "      <td>29.6</td>\n",
       "      <td>7-5 6-4</td>\n",
       "      <td>3</td>\n",
       "      <td>R16</td>\n",
       "      <td>15.0</td>\n",
       "      <td>1748.0</td>\n",
       "      <td>78.0</td>\n",
       "      <td>572.0</td>\n",
       "    </tr>\n",
       "    <tr>\n",
       "      <th>1</th>\n",
       "      <td>ADELAIDE</td>\n",
       "      <td>32.0</td>\n",
       "      <td>A</td>\n",
       "      <td>2000-01-03</td>\n",
       "      <td>431.0</td>\n",
       "      <td>8.0</td>\n",
       "      <td>NaN</td>\n",
       "      <td>NICOLAS ESCUDE</td>\n",
       "      <td>R</td>\n",
       "      <td>185.0</td>\n",
       "      <td>...</td>\n",
       "      <td>183.0</td>\n",
       "      <td>AUS</td>\n",
       "      <td>20.5</td>\n",
       "      <td>6-7(5) 7-5 6-3</td>\n",
       "      <td>3</td>\n",
       "      <td>R32</td>\n",
       "      <td>37.0</td>\n",
       "      <td>995.0</td>\n",
       "      <td>654.0</td>\n",
       "      <td>24.0</td>\n",
       "    </tr>\n",
       "    <tr>\n",
       "      <th>742255</th>\n",
       "      <td>W40 NAVI MUMBAI</td>\n",
       "      <td>32.0</td>\n",
       "      <td>40</td>\n",
       "      <td>2023-12-25</td>\n",
       "      <td>10694.0</td>\n",
       "      <td>32.0</td>\n",
       "      <td>NaN</td>\n",
       "      <td>DIANA MARCINKEVICA</td>\n",
       "      <td>R</td>\n",
       "      <td>170.0</td>\n",
       "      <td>...</td>\n",
       "      <td>NaN</td>\n",
       "      <td>JPN</td>\n",
       "      <td>22.4</td>\n",
       "      <td>6-4 7-5</td>\n",
       "      <td>3</td>\n",
       "      <td>R16</td>\n",
       "      <td>346.0</td>\n",
       "      <td>184.0</td>\n",
       "      <td>716.0</td>\n",
       "      <td>49.0</td>\n",
       "    </tr>\n",
       "    <tr>\n",
       "      <th>742256</th>\n",
       "      <td>W40 NAVI MUMBAI</td>\n",
       "      <td>32.0</td>\n",
       "      <td>40</td>\n",
       "      <td>2023-12-25</td>\n",
       "      <td>21970.0</td>\n",
       "      <td>32.0</td>\n",
       "      <td>NaN</td>\n",
       "      <td>NAHO SATO</td>\n",
       "      <td>R</td>\n",
       "      <td>NaN</td>\n",
       "      <td>...</td>\n",
       "      <td>NaN</td>\n",
       "      <td>RUS</td>\n",
       "      <td>NaN</td>\n",
       "      <td>6-4 2-0 RET</td>\n",
       "      <td>3</td>\n",
       "      <td>R32</td>\n",
       "      <td>479.0</td>\n",
       "      <td>110.0</td>\n",
       "      <td>1310.0</td>\n",
       "      <td>5.0</td>\n",
       "    </tr>\n",
       "  </tbody>\n",
       "</table>\n",
       "<p>4 rows × 27 columns</p>\n",
       "</div>"
      ],
      "text/plain": [
       "           tourney_name  draw_size tourney_level tourney_date  winner_id  \\\n",
       "0              ADELAIDE       32.0             A   2000-01-03      454.0   \n",
       "1              ADELAIDE       32.0             A   2000-01-03      431.0   \n",
       "742255  W40 NAVI MUMBAI       32.0            40   2023-12-25    10694.0   \n",
       "742256  W40 NAVI MUMBAI       32.0            40   2023-12-25    21970.0   \n",
       "\n",
       "        winner_seed winner_entry         winner_name winner_hand  winner_ht  \\\n",
       "0               3.0          NaN       MAGNUS NORMAN           R      188.0   \n",
       "1               8.0          NaN      NICOLAS ESCUDE           R      185.0   \n",
       "742255         32.0          NaN  DIANA MARCINKEVICA           R      170.0   \n",
       "742256         32.0          NaN           NAHO SATO           R        NaN   \n",
       "\n",
       "        ... loser_ht  loser_ioc  loser_age           score best_of round  \\\n",
       "0       ...    196.0        AUS       29.6         7-5 6-4       3   R16   \n",
       "1       ...    183.0        AUS       20.5  6-7(5) 7-5 6-3       3   R32   \n",
       "742255  ...      NaN        JPN       22.4         6-4 7-5       3   R16   \n",
       "742256  ...      NaN        RUS        NaN     6-4 2-0 RET       3   R32   \n",
       "\n",
       "       winner_rank  winner_rank_points loser_rank  loser_rank_points  \n",
       "0             15.0              1748.0       78.0              572.0  \n",
       "1             37.0               995.0      654.0               24.0  \n",
       "742255       346.0               184.0      716.0               49.0  \n",
       "742256       479.0               110.0     1310.0                5.0  \n",
       "\n",
       "[4 rows x 27 columns]"
      ]
     },
     "execution_count": 21,
     "metadata": {},
     "output_type": "execute_result"
    }
   ],
   "source": [
    "# Ejemplo de datos de partido\n",
    "df.loc[[0,1,742255, 742256]]"
   ]
  },
  {
   "cell_type": "code",
   "execution_count": 22,
   "metadata": {},
   "outputs": [
    {
     "data": {
      "image/png": "[encoded data removed]",
      "text/plain": [
       "<Figure size 1000x1000 with 6 Axes>"
      ]
     },
     "metadata": {},
     "output_type": "display_data"
    }
   ],
   "source": [
    "# Vista de distribucion de los datos\n",
    "df[['winner_ht', 'loser_ht', 'winner_seed', 'loser_seed', 'winner_rank', 'loser_rank']].hist()\n",
    "fig = plt.gcf()\n",
    "fig.set_size_inches((10,10))\n",
    "plt.show()"
   ]
  },
  {
   "cell_type": "markdown",
   "metadata": {},
   "source": [
    "La distribucion de best_of es consta solo principalmente de partidos del mejor de 3 o 5 sets, y partidos no oficionales con otras rondas. Esto nos puede ayudar en el modelo de clasificación para definir que se puede predecir."
   ]
  },
  {
   "cell_type": "code",
   "execution_count": 23,
   "metadata": {},
   "outputs": [
    {
     "data": {
      "image/png": "[encoded data removed]",
      "text/plain": [
       "<Figure size 1000x700 with 1 Axes>"
      ]
     },
     "metadata": {},
     "output_type": "display_data"
    }
   ],
   "source": [
    "best_of_div = df.groupby(['tourney_level', 'best_of']).size()\n",
    "species = best_of_div.index.get_level_values('tourney_level').unique().to_list()\n",
    "layers = best_of_div.index.get_level_values('best_of').unique().to_list()\n",
    "plotting = pd.DataFrame(columns=species, index=layers)\n",
    "plotting.loc[:,:] = 0\n",
    "\n",
    "for idx, val in zip(best_of_div.index, best_of_div.values) :\n",
    "    plotting.loc[idx[1], str(idx[0])] = val\n",
    "\n",
    "\n",
    "width = 0.6\n",
    "fig, ax = plt.subplots(figsize=(10,7))\n",
    "bottom = np.zeros(len(species))\n",
    "\n",
    "for boolean, weight in zip(plotting.index, plotting.cumsum().values): \n",
    "    p = ax.bar(species, weight, width, label=boolean, bottom=bottom)\n",
    "    bottom = np.asarray(weight)\n",
    "\n",
    "ax.set_title('Number of matches per tournament type and per best of 3/5')\n",
    "ax.legend()\n",
    "plt.tight_layout()\n",
    "plt.show()"
   ]
  },
  {
   "cell_type": "markdown",
   "metadata": {},
   "source": [
    "Como se puede observar, las distribuciones entre 3 y 5 son en general equitativas. Sin embargo entre los diferentes torneos hay una gran diferencia de datos."
   ]
  },
  {
   "cell_type": "code",
   "execution_count": 24,
   "metadata": {},
   "outputs": [],
   "source": [
    "df = df[df['tourney_level'].isin(['G', 'D', 'P', 'PM', 'M', '50', '60', '75', '100'])]"
   ]
  },
  {
   "cell_type": "markdown",
   "metadata": {},
   "source": [
    "Nos quedamos solo con los más importantes - suponemos mejor documentacion y mayor uniformidad y calidad en los datos. \n",
    "\n",
    "'G' = Grand Slams, 'M' = Masters 1000s, 'A' = other tour-level events, 'C' = Challengers\n",
    "International Tournements Finals levels are given by prize money, such as '15' = ITF $15,000"
   ]
  },
  {
   "cell_type": "markdown",
   "metadata": {},
   "source": [
    "### Target Classification"
   ]
  },
  {
   "cell_type": "markdown",
   "metadata": {},
   "source": [
    "Entre las opciones interesantes a realizar como modelo regresor : \n",
    "- Apuestas In game / Pre game : se elige pre game <-> la información es más fácil de conseguir para futuros pártidos, y no hace falta que sea en tiempo real, si se quisiese utilizar en casos no conocidos por el dataset. \n",
    "- Posible apuesta: \n",
    "    - Jugador Ganador :  Clasificador binario - gana jugador 1, o jugador 2. \n",
    "    - Resultadopor sets: Que jugador gana cada set - ie. 122, el mejor de tres lo gana el jugador 2, consiguiendo ganar los dos ultimos sets. \n",
    "    - Resultado Detallada: Posiblemente sea más fácil con datos in-game, se intenta predecir los puntos por set, ie 6-4. \n",
    "\n",
    "Opción elegida:  resultado por sets, la opcion más completa sin que sea demasiado aleatorio, sin la falta de datos de ingame. \n",
    "Con esta opción un tanto ambigua: podemos apostar en por ejemplo: ganador del pártido, ganador del set, hándicap, y/o total de juegos. \n",
    "Vease un <a href = https://sports.bwin.es/es/sports/tenis-5>(ejemplo real)</a>. ** No se está incitando a las apuestas, y se recomienda el juego responsable. \n",
    "\n",
    "La distribucion entre partidos de 3 y 5 parece ser equitativa , por lo que se ha decidio realizar un clasificador para ambos simulatenamente, el clasificador no deberia tener problema, pues un atributo le indica si debe seleccionar las clases de mejor de 3 o mejor de 5.\n",
    "\n",
    "Además nos da igual que gane gane 7(6)-5, que 6-0. \n"
   ]
  },
  {
   "cell_type": "code",
   "execution_count": 25,
   "metadata": {},
   "outputs": [
    {
     "name": "stdout",
     "output_type": "stream",
     "text": [
      "['00', '11', '101', '010', '100', '011', '000', '0010', '00110', '00111', '0100', '01010', '01011', '01100', '01101', '0111', '1000', '10010', '10011', '10100', '10101', '1011', '11000', '11001', '1101', '111']\n"
     ]
    }
   ],
   "source": [
    "# mejor de 3\n",
    "bo3 = ['00', '11', '101', '010', '100', '011' ]\n",
    "\n",
    "# mejor de 5\n",
    "import itertools as it\n",
    "bo5 = []\n",
    "for result in it.product('01', repeat=5): \n",
    "    sets = ''.join(result[:3])\n",
    "    count_1 = np.asarray([int(p) for p in result[:3]]).sum()\n",
    "    count_0 =  3 - count_1\n",
    "    pos = 3\n",
    "    while count_0 < 3 and count_1 < 3:\n",
    "        if int(result[pos])==0: count_0 += 1\n",
    "        else: count_1 += 1\n",
    "        sets += result[pos]\n",
    "        pos += 1\n",
    "    if sets not in bo5: \n",
    "        bo5.append(sets)\n",
    "\n",
    "classes=bo3+bo5\n",
    "print(classes)"
   ]
  },
  {
   "cell_type": "code",
   "execution_count": 26,
   "metadata": {},
   "outputs": [],
   "source": [
    "regex = r\"\\d+(?:\\(\\d+\\))?-\\d+(?:\\(\\d+\\))?\"\n",
    "## construir clases segun score \n",
    "def check_re(test_str):\n",
    "    class_target = ''\n",
    "    for ronda in re.finditer(regex, test_str):\n",
    "        sets =[ points.group()\n",
    "               for score in ronda.group().split('-')\n",
    "               for points in re.finditer(r\"\\d+(?:\\(\\d+\\))?\", score)]\n",
    "        numbers = []\n",
    "        for points in sets: \n",
    "            n = re.search(r\"^\\d+\", points)\n",
    "            numbers.append(int(n.group())) if n else numbers.append(-1)\n",
    "        class_target += str(np.argmax(numbers))\n",
    "    \n",
    "    return class_target           "
   ]
  },
  {
   "cell_type": "code",
   "execution_count": 27,
   "metadata": {},
   "outputs": [
    {
     "data": {
      "text/plain": [
       "array(['000', '11000', '10100', '1000', '00110', '00', '0100', '0010',\n",
       "       '01100', '10010', '01010', '010', '100', '-0', '-', '1011', '-10',\n",
       "       '-110', '11001', '10011', '-01', '101', '-001', '011', '-0110',\n",
       "       '-1', '11', '-1100', '-1010', '-0101', '-1001', '111', '01101',\n",
       "       '10101', '-0011', '-10000', '-00100', '-0000'], dtype=object)"
      ]
     },
     "execution_count": 27,
     "metadata": {},
     "output_type": "execute_result"
    }
   ],
   "source": [
    "df['y'] = df.score.apply(lambda x : check_re(x) if not pd.isna(x) and check_re(x) in classes else '-'+check_re(x) if not pd.isna(x) else '-')\n",
    "df['y'].unique()"
   ]
  },
  {
   "cell_type": "markdown",
   "metadata": {},
   "source": [
    "Como se puede observar hay combinaciones que no hemos tenido en cuenta, veamos ejemplos:"
   ]
  },
  {
   "cell_type": "code",
   "execution_count": 28,
   "metadata": {},
   "outputs": [
    {
     "data": {
      "text/html": [
       "<div>\n",
       "<style scoped>\n",
       "    .dataframe tbody tr th:only-of-type {\n",
       "        vertical-align: middle;\n",
       "    }\n",
       "\n",
       "    .dataframe tbody tr th {\n",
       "        vertical-align: top;\n",
       "    }\n",
       "\n",
       "    .dataframe thead th {\n",
       "        text-align: right;\n",
       "    }\n",
       "</style>\n",
       "<table border=\"1\" class=\"dataframe\">\n",
       "  <thead>\n",
       "    <tr style=\"text-align: right;\">\n",
       "      <th></th>\n",
       "      <th>tourney_name</th>\n",
       "      <th>tourney_level</th>\n",
       "      <th>score</th>\n",
       "      <th>best_of</th>\n",
       "      <th>y</th>\n",
       "    </tr>\n",
       "  </thead>\n",
       "  <tbody>\n",
       "    <tr>\n",
       "      <th>384</th>\n",
       "      <td>AUSTRALIAN OPEN</td>\n",
       "      <td>G</td>\n",
       "      <td>6-3 RET</td>\n",
       "      <td>3</td>\n",
       "      <td>-0</td>\n",
       "    </tr>\n",
       "    <tr>\n",
       "      <th>1626</th>\n",
       "      <td>MIAMI MASTERS</td>\n",
       "      <td>M</td>\n",
       "      <td>W/O</td>\n",
       "      <td>3</td>\n",
       "      <td>-</td>\n",
       "    </tr>\n",
       "    <tr>\n",
       "      <th>1796</th>\n",
       "      <td>DAVIS CUP G1 SF: CHI VS ARG</td>\n",
       "      <td>D</td>\n",
       "      <td>W/O</td>\n",
       "      <td>5</td>\n",
       "      <td>-</td>\n",
       "    </tr>\n",
       "    <tr>\n",
       "      <th>1802</th>\n",
       "      <td>DAVIS CUP G1 SF: CHI VS ARG</td>\n",
       "      <td>D</td>\n",
       "      <td>W/O</td>\n",
       "      <td>5</td>\n",
       "      <td>-</td>\n",
       "    </tr>\n",
       "    <tr>\n",
       "      <th>2126</th>\n",
       "      <td>DAVIS CUP G2 R1: TUR VS DEN</td>\n",
       "      <td>D</td>\n",
       "      <td>6-7(5) 6-3 RET</td>\n",
       "      <td>5</td>\n",
       "      <td>-10</td>\n",
       "    </tr>\n",
       "    <tr>\n",
       "      <th>...</th>\n",
       "      <td>...</td>\n",
       "      <td>...</td>\n",
       "      <td>...</td>\n",
       "      <td>...</td>\n",
       "      <td>...</td>\n",
       "    </tr>\n",
       "    <tr>\n",
       "      <th>740217</th>\n",
       "      <td>W60 GOLD COAST</td>\n",
       "      <td>60</td>\n",
       "      <td>6-4 2-3 RET</td>\n",
       "      <td>3</td>\n",
       "      <td>-01</td>\n",
       "    </tr>\n",
       "    <tr>\n",
       "      <th>740312</th>\n",
       "      <td>W60 GOLD COAST</td>\n",
       "      <td>60</td>\n",
       "      <td>6-2 RET</td>\n",
       "      <td>3</td>\n",
       "      <td>-0</td>\n",
       "    </tr>\n",
       "    <tr>\n",
       "      <th>740733</th>\n",
       "      <td>W60 TRNAVA</td>\n",
       "      <td>60</td>\n",
       "      <td>W/O</td>\n",
       "      <td>3</td>\n",
       "      <td>-</td>\n",
       "    </tr>\n",
       "    <tr>\n",
       "      <th>741195</th>\n",
       "      <td>W100 DUBAI</td>\n",
       "      <td>100</td>\n",
       "      <td>2-1 RET</td>\n",
       "      <td>3</td>\n",
       "      <td>-0</td>\n",
       "    </tr>\n",
       "    <tr>\n",
       "      <th>741412</th>\n",
       "      <td>W100 DUBAI</td>\n",
       "      <td>100</td>\n",
       "      <td>5-4 RET</td>\n",
       "      <td>3</td>\n",
       "      <td>-0</td>\n",
       "    </tr>\n",
       "  </tbody>\n",
       "</table>\n",
       "<p>2077 rows × 5 columns</p>\n",
       "</div>"
      ],
      "text/plain": [
       "                       tourney_name tourney_level           score  best_of  \\\n",
       "384                 AUSTRALIAN OPEN             G         6-3 RET        3   \n",
       "1626                  MIAMI MASTERS             M             W/O        3   \n",
       "1796    DAVIS CUP G1 SF: CHI VS ARG             D             W/O        5   \n",
       "1802    DAVIS CUP G1 SF: CHI VS ARG             D             W/O        5   \n",
       "2126    DAVIS CUP G2 R1: TUR VS DEN             D  6-7(5) 6-3 RET        5   \n",
       "...                             ...           ...             ...      ...   \n",
       "740217               W60 GOLD COAST            60     6-4 2-3 RET        3   \n",
       "740312               W60 GOLD COAST            60         6-2 RET        3   \n",
       "740733                   W60 TRNAVA            60             W/O        3   \n",
       "741195                   W100 DUBAI           100         2-1 RET        3   \n",
       "741412                   W100 DUBAI           100         5-4 RET        3   \n",
       "\n",
       "          y  \n",
       "384      -0  \n",
       "1626      -  \n",
       "1796      -  \n",
       "1802      -  \n",
       "2126    -10  \n",
       "...     ...  \n",
       "740217  -01  \n",
       "740312   -0  \n",
       "740733    -  \n",
       "741195   -0  \n",
       "741412   -0  \n",
       "\n",
       "[2077 rows x 5 columns]"
      ]
     },
     "execution_count": 28,
     "metadata": {},
     "output_type": "execute_result"
    }
   ],
   "source": [
    "df.query(\"y.str.startswith('-')\")[['tourney_name', 'tourney_level', 'score', 'best_of', 'y']]"
   ]
  },
  {
   "cell_type": "code",
   "execution_count": 29,
   "metadata": {},
   "outputs": [
    {
     "data": {
      "text/plain": [
       "array(['RET', 'WO', '', 'PLAYEDANDABANDONED', 'DEF', 'ABD', 'WALKOVER',\n",
       "       'RE', 'PLAYEDANDUNFINISHED', 'NBSP', 'RETH'], dtype=object)"
      ]
     },
     "execution_count": 29,
     "metadata": {},
     "output_type": "execute_result"
    }
   ],
   "source": [
    "df.loc[df['y'].str.startswith('-'),'score'].apply(lambda x : re.sub(r'[^a-zA-Z]+', '', x) if not pd.isna(x) else '').unique()"
   ]
  },
  {
   "cell_type": "markdown",
   "metadata": {},
   "source": [
    "W/O -> walkover : no presentado\n",
    "\n",
    "RE / RET/ RETH / ABD / PLAYED AND ABANDONED-UNFINISHED-> Retired no se juegan todo el set, pierde automaticamente quien no ha jugado. \n",
    "\n",
    "otros : DEF/NBSP/BYE/ MAY\n",
    "\n",
    "En cualquiera los casos descritos el score no llega al minimo de sets por partido. Por ello, no existe combinacion - None, o no esta entre los planteados. \n",
    "\n",
    "Para simplificar el clasificador y teniendo en cuenta que si se cancela no se apostará, se eliminan los 4796 partidos no completos (independientemente del motivo)"
   ]
  },
  {
   "cell_type": "code",
   "execution_count": 30,
   "metadata": {},
   "outputs": [],
   "source": [
    "df = df.drop(df[df['y'].str.startswith('-')].index, axis=0)"
   ]
  },
  {
   "cell_type": "markdown",
   "metadata": {},
   "source": [
    "## Dataset cleaning & samples generation"
   ]
  },
  {
   "cell_type": "code",
   "execution_count": 31,
   "metadata": {},
   "outputs": [
    {
     "data": {
      "text/plain": [
       "array(['p0', 'p1'], dtype=object)"
      ]
     },
     "execution_count": 31,
     "metadata": {},
     "output_type": "execute_result"
    }
   ],
   "source": [
    "# calculo de quien es el ganador en base a score transformed \n",
    "df['winner']=df.y.apply(lambda x : 'p'+str(np.argmax([sum([int(i)==n for i in x]) for n in [0,1]] )))\n",
    "df['winner'].unique()"
   ]
  },
  {
   "cell_type": "code",
   "execution_count": 32,
   "metadata": {},
   "outputs": [],
   "source": [
    "match_data = ['tourney_name', 'draw_size', 'tourney_level', 'tourney_date', 'best_of', 'round', 'y']\n",
    "player_data = ['_id', '_seed', '_entry', '_name', '_hand', '_ht', '_ioc', '_age', '_rank', '_rank_points']\n",
    "\n",
    "p_df = pd.DataFrame(index = df.index, \n",
    "                    columns= ['p0' + p for p in player_data] + ['p1' + p for p in player_data] + match_data)\n",
    "\n",
    "p_df[match_data] = df[match_data]"
   ]
  },
  {
   "cell_type": "code",
   "execution_count": 33,
   "metadata": {},
   "outputs": [],
   "source": [
    "p0_winner = df[df['winner']=='p0'].filter(like='winner_')\n",
    "p1_loser = df[df['winner']=='p0'].filter(like='loser_')\n",
    "\n",
    "p_df.loc[p0_winner.index, ['p0' + p for p in player_data]] = p0_winner.values\n",
    "p_df.loc[p0_winner.index, ['p1' + p for p in player_data]] = p1_loser.values"
   ]
  },
  {
   "cell_type": "code",
   "execution_count": 34,
   "metadata": {},
   "outputs": [],
   "source": [
    "p1_winner = df[df['winner']=='p1'].filter(like='winner_')\n",
    "p0_loser = df[df['winner']=='p1'].filter(like='loser_')\n",
    "\n",
    "p_df.loc[p1_winner.index, ['p1' + p for p in player_data]] = p1_winner.values\n",
    "p_df.loc[p1_winner.index, ['p0' + p for p in player_data]] = p0_loser.values"
   ]
  },
  {
   "cell_type": "code",
   "execution_count": 35,
   "metadata": {},
   "outputs": [],
   "source": [
    "p_df.reset_index(inplace=True)"
   ]
  },
  {
   "cell_type": "markdown",
   "metadata": {},
   "source": [
    "### Missing & Null Values Treatment"
   ]
  },
  {
   "cell_type": "code",
   "execution_count": 36,
   "metadata": {},
   "outputs": [
    {
     "name": "stdout",
     "output_type": "stream",
     "text": [
      "<class 'pandas.core.frame.DataFrame'>\n",
      "RangeIndex: 142150 entries, 0 to 142149\n",
      "Data columns (total 28 columns):\n",
      " #   Column          Non-Null Count   Dtype         \n",
      "---  ------          --------------   -----         \n",
      " 0   index           142150 non-null  int64         \n",
      " 1   p0_id           142084 non-null  object        \n",
      " 2   p0_seed         115542 non-null  object        \n",
      " 3   p0_entry        15657 non-null   object        \n",
      " 4   p0_name         142150 non-null  object        \n",
      " 5   p0_hand         142141 non-null  object        \n",
      " 6   p0_ht           118971 non-null  object        \n",
      " 7   p0_ioc          142148 non-null  object        \n",
      " 8   p0_age          142022 non-null  object        \n",
      " 9   p0_rank         138944 non-null  object        \n",
      " 10  p0_rank_points  138944 non-null  object        \n",
      " 11  p1_id           142150 non-null  object        \n",
      " 12  p1_seed         106738 non-null  object        \n",
      " 13  p1_entry        26908 non-null   object        \n",
      " 14  p1_name         142150 non-null  object        \n",
      " 15  p1_hand         142106 non-null  object        \n",
      " 16  p1_ht           108184 non-null  object        \n",
      " 17  p1_ioc          142144 non-null  object        \n",
      " 18  p1_age          141488 non-null  object        \n",
      " 19  p1_rank         134602 non-null  object        \n",
      " 20  p1_rank_points  134602 non-null  object        \n",
      " 21  tourney_name    142150 non-null  object        \n",
      " 22  draw_size       142150 non-null  float64       \n",
      " 23  tourney_level   142150 non-null  object        \n",
      " 24  tourney_date    142150 non-null  datetime64[ns]\n",
      " 25  best_of         142150 non-null  int64         \n",
      " 26  round           142150 non-null  object        \n",
      " 27  y               142150 non-null  object        \n",
      "dtypes: datetime64[ns](1), float64(1), int64(2), object(24)\n",
      "memory usage: 30.4+ MB\n"
     ]
    }
   ],
   "source": [
    "p_df.info()"
   ]
  },
  {
   "cell_type": "code",
   "execution_count": 37,
   "metadata": {},
   "outputs": [
    {
     "data": {
      "text/plain": [
       "p0_entry          126493\n",
       "p1_entry          115242\n",
       "p1_seed            35412\n",
       "p1_ht              33966\n",
       "p0_seed            26608\n",
       "p0_ht              23179\n",
       "p1_rank_points      7548\n",
       "p1_rank             7548\n",
       "p0_rank             3206\n",
       "p0_rank_points      3206\n",
       "p1_age               662\n",
       "p0_age               128\n",
       "p0_id                 66\n",
       "p1_hand               44\n",
       "p0_hand                9\n",
       "p1_ioc                 6\n",
       "p0_ioc                 2\n",
       "index                  0\n",
       "best_of                0\n",
       "tourney_level          0\n",
       "round                  0\n",
       "tourney_date           0\n",
       "p1_name                0\n",
       "draw_size              0\n",
       "tourney_name           0\n",
       "p1_id                  0\n",
       "p0_name                0\n",
       "y                      0\n",
       "dtype: int64"
      ]
     },
     "execution_count": 37,
     "metadata": {},
     "output_type": "execute_result"
    }
   ],
   "source": [
    "p_df.isna().sum(axis=0).sort_values(ascending=False)"
   ]
  },
  {
   "cell_type": "code",
   "execution_count": 38,
   "metadata": {},
   "outputs": [],
   "source": [
    "p_df = p_df.dropna(subset=['p0_id', 'p1_id'])"
   ]
  },
  {
   "cell_type": "markdown",
   "metadata": {},
   "source": [
    "standarizar las entrada y ronda\n",
    "\n",
    "- ALT / AL / A -> ALT\n",
    "- SR / SE -> SR : Special ranking/entry\n",
    "- NaN -> DIR : Entrada directa\n"
   ]
  },
  {
   "cell_type": "code",
   "execution_count": 39,
   "metadata": {},
   "outputs": [],
   "source": [
    "p_df['p1_entry'] = p_df['p1_entry'].apply(lambda x : 'ALT' if x in ('ALT','AL','A') else \\\n",
    "                                        'SE' if x in ('SR', 'SE') else \\\n",
    "                                        'JR' if x in ('SR', 'SE') else \\\n",
    "                                        'DIR' if pd.isna(x) else \\\n",
    "                                        x)\n",
    "p_df['p0_entry'] = p_df['p0_entry'].apply(lambda x : 'ALT' if x in ('ALT','AL','A') else \\\n",
    "                                        'SE' if x in ('SR', 'SE') else \\\n",
    "                                        'JR' if x in ('SR', 'SE') else \\\n",
    "                                        'DIR' if pd.isna(x) else \\\n",
    "                                        x)"
   ]
  },
  {
   "cell_type": "markdown",
   "metadata": {},
   "source": [
    "Since the seed is based on the ranking, we will fill it with draw_size for now, (maybe later we will remove the attribute)"
   ]
  },
  {
   "cell_type": "code",
   "execution_count": 40,
   "metadata": {},
   "outputs": [
    {
     "name": "stderr",
     "output_type": "stream",
     "text": [
      "C:\\Users\\Ferrer\\AppData\\Local\\Temp\\ipykernel_10472\\2015356593.py:1: FutureWarning: Downcasting object dtype arrays on .fillna, .ffill, .bfill is deprecated and will change in a future version. Call result.infer_objects(copy=False) instead. To opt-in to the future behavior, set `pd.set_option('future.no_silent_downcasting', True)`\n",
      "  p_df['p0_seed'] = p_df['p0_seed'].fillna(p_df['draw_size']).infer_objects(copy=False).copy()\n",
      "C:\\Users\\Ferrer\\AppData\\Local\\Temp\\ipykernel_10472\\2015356593.py:2: FutureWarning: Downcasting object dtype arrays on .fillna, .ffill, .bfill is deprecated and will change in a future version. Call result.infer_objects(copy=False) instead. To opt-in to the future behavior, set `pd.set_option('future.no_silent_downcasting', True)`\n",
      "  p_df['p1_seed'] = p_df['p1_seed'].fillna(p_df['draw_size']).infer_objects(copy=False).copy()\n"
     ]
    }
   ],
   "source": [
    "p_df['p0_seed'] = p_df['p0_seed'].fillna(p_df['draw_size']).infer_objects(copy=False).copy()\n",
    "p_df['p1_seed'] = p_df['p1_seed'].fillna(p_df['draw_size']).infer_objects(copy=False).copy()"
   ]
  },
  {
   "cell_type": "markdown",
   "metadata": {},
   "source": [
    "Si el rank esta missing suponemos que no ha competido previamente ya sea en el torneo, o en otros, y se le asignara un 0 "
   ]
  },
  {
   "cell_type": "code",
   "execution_count": 41,
   "metadata": {},
   "outputs": [
    {
     "name": "stderr",
     "output_type": "stream",
     "text": [
      "C:\\Users\\Ferrer\\AppData\\Local\\Temp\\ipykernel_10472\\1935895754.py:1: FutureWarning: Downcasting object dtype arrays on .fillna, .ffill, .bfill is deprecated and will change in a future version. Call result.infer_objects(copy=False) instead. To opt-in to the future behavior, set `pd.set_option('future.no_silent_downcasting', True)`\n",
      "  p_df.loc[:,p_df.filter(like='rank').columns.tolist()] = p_df.filter(like='rank').fillna(0).infer_objects(copy=False).copy()\n"
     ]
    }
   ],
   "source": [
    "p_df.loc[:,p_df.filter(like='rank').columns.tolist()] = p_df.filter(like='rank').fillna(0).infer_objects(copy=False).copy()"
   ]
  },
  {
   "cell_type": "markdown",
   "metadata": {},
   "source": [
    "Para cualquier altura y edad se basara en los datos de players."
   ]
  },
  {
   "cell_type": "code",
   "execution_count": 42,
   "metadata": {},
   "outputs": [],
   "source": [
    "p0_mask = pd.isna(p_df.p0_ht)\n",
    "p_df.loc[p0_mask, 'p0_ht'] = players.loc[p_df.loc[p0_mask, 'p0_id'], 'height'].values\n",
    "\n",
    "p1_mask = pd.isna(p_df.p1_ht)\n",
    "p_df.loc[p1_mask, 'p1_ht'] = players.loc[p_df.loc[p1_mask, 'p1_id'], 'height'].values"
   ]
  },
  {
   "cell_type": "code",
   "execution_count": 43,
   "metadata": {},
   "outputs": [],
   "source": [
    "p0_mask = pd.isna(p_df.p0_age)\n",
    "p_df.loc[p0_mask, 'p0_age'] = p_df.loc[p0_mask, 'tourney_date'].dt.year.values - players.loc[p_df.loc[p0_mask, 'p0_id'], 'dob'].dt.year.values\n",
    "p1_mask = pd.isna(p_df.p1_age)\n",
    "p_df.loc[p1_mask, 'p1_age'] = p_df.loc[p1_mask, 'tourney_date'].dt.year.values - players.loc[p_df.loc[p1_mask, 'p1_id'], 'dob'].dt.year.values"
   ]
  },
  {
   "cell_type": "code",
   "execution_count": 44,
   "metadata": {},
   "outputs": [],
   "source": [
    "p0_mask = pd.isna(p_df.p0_hand)\n",
    "p_df.loc[p0_mask, 'p0_hand'] = players.loc[p_df.loc[p0_mask, 'p0_id'], 'hand'].values\n",
    "\n",
    "p1_mask = pd.isna(p_df.p1_hand)\n",
    "p_df.loc[p1_mask, 'p1_hand'] = players.loc[p_df.loc[p1_mask, 'p1_id'], 'hand'].values"
   ]
  },
  {
   "cell_type": "code",
   "execution_count": 49,
   "metadata": {},
   "outputs": [],
   "source": [
    "p0_mask = pd.isna(p_df.p0_ioc)\n",
    "p_df.loc[p0_mask, 'p0_ioc'] = players.loc[p_df.loc[p0_mask, 'p0_id'], 'ioc'].values\n",
    "\n",
    "p1_mask = pd.isna(p_df.p1_ioc)\n",
    "p_df.loc[p1_mask, 'p1_ioc'] = players.loc[p_df.loc[p1_mask, 'p1_id'], 'ioc'].values"
   ]
  },
  {
   "cell_type": "code",
   "execution_count": 54,
   "metadata": {},
   "outputs": [
    {
     "data": {
      "text/html": [
       "<div>\n",
       "<style scoped>\n",
       "    .dataframe tbody tr th:only-of-type {\n",
       "        vertical-align: middle;\n",
       "    }\n",
       "\n",
       "    .dataframe tbody tr th {\n",
       "        vertical-align: top;\n",
       "    }\n",
       "\n",
       "    .dataframe thead th {\n",
       "        text-align: right;\n",
       "    }\n",
       "</style>\n",
       "<table border=\"1\" class=\"dataframe\">\n",
       "  <thead>\n",
       "    <tr style=\"text-align: right;\">\n",
       "      <th></th>\n",
       "      <th>p0_name</th>\n",
       "      <th>p0_id</th>\n",
       "      <th>p0_ioc</th>\n",
       "      <th>p1_name</th>\n",
       "      <th>p1_id</th>\n",
       "      <th>p1_ioc</th>\n",
       "    </tr>\n",
       "  </thead>\n",
       "  <tbody>\n",
       "    <tr>\n",
       "      <th>39067</th>\n",
       "      <td>BENJAMIN LOCK</td>\n",
       "      <td>4393.0</td>\n",
       "      <td>ZWE</td>\n",
       "      <td>HAZEM NAW</td>\n",
       "      <td>7092</td>\n",
       "      <td>NaN</td>\n",
       "    </tr>\n",
       "    <tr>\n",
       "      <th>39069</th>\n",
       "      <td>HAZEM NAW</td>\n",
       "      <td>7092.0</td>\n",
       "      <td>NaN</td>\n",
       "      <td>MEHLULI DON AYANDA SIBANDA</td>\n",
       "      <td>5947</td>\n",
       "      <td>ZWE</td>\n",
       "    </tr>\n",
       "    <tr>\n",
       "      <th>119507</th>\n",
       "      <td>JIA QI KANG</td>\n",
       "      <td>19280.0</td>\n",
       "      <td>CHN</td>\n",
       "      <td>QIAN YANG</td>\n",
       "      <td>22595</td>\n",
       "      <td>None</td>\n",
       "    </tr>\n",
       "    <tr>\n",
       "      <th>134736</th>\n",
       "      <td>ANNA SINCLAIR ROGERS</td>\n",
       "      <td>23046.0</td>\n",
       "      <td>USA</td>\n",
       "      <td>YU CHEN</td>\n",
       "      <td>22594</td>\n",
       "      <td>None</td>\n",
       "    </tr>\n",
       "    <tr>\n",
       "      <th>136331</th>\n",
       "      <td>MAILEEN NUUDI</td>\n",
       "      <td>20775.0</td>\n",
       "      <td>EST</td>\n",
       "      <td>VESA GJINAJ</td>\n",
       "      <td>25527</td>\n",
       "      <td>None</td>\n",
       "    </tr>\n",
       "    <tr>\n",
       "      <th>141036</th>\n",
       "      <td>LE YI LIU</td>\n",
       "      <td>22585.0</td>\n",
       "      <td>None</td>\n",
       "      <td>DUANRUI GAO</td>\n",
       "      <td>27464</td>\n",
       "      <td>CHN</td>\n",
       "    </tr>\n",
       "    <tr>\n",
       "      <th>141049</th>\n",
       "      <td>ANASTASIIA GUREVA</td>\n",
       "      <td>25988.0</td>\n",
       "      <td>RUS</td>\n",
       "      <td>LE YI LIU</td>\n",
       "      <td>22585</td>\n",
       "      <td>None</td>\n",
       "    </tr>\n",
       "  </tbody>\n",
       "</table>\n",
       "</div>"
      ],
      "text/plain": [
       "                     p0_name    p0_id p0_ioc                     p1_name  \\\n",
       "39067          BENJAMIN LOCK   4393.0    ZWE                   HAZEM NAW   \n",
       "39069              HAZEM NAW   7092.0    NaN  MEHLULI DON AYANDA SIBANDA   \n",
       "119507           JIA QI KANG  19280.0    CHN                   QIAN YANG   \n",
       "134736  ANNA SINCLAIR ROGERS  23046.0    USA                     YU CHEN   \n",
       "136331         MAILEEN NUUDI  20775.0    EST                 VESA GJINAJ   \n",
       "141036             LE YI LIU  22585.0   None                 DUANRUI GAO   \n",
       "141049     ANASTASIIA GUREVA  25988.0    RUS                   LE YI LIU   \n",
       "\n",
       "        p1_id p1_ioc  \n",
       "39067    7092    NaN  \n",
       "39069    5947    ZWE  \n",
       "119507  22595   None  \n",
       "134736  22594   None  \n",
       "136331  25527   None  \n",
       "141036  27464    CHN  \n",
       "141049  22585   None  "
      ]
     },
     "execution_count": 54,
     "metadata": {},
     "output_type": "execute_result"
    }
   ],
   "source": [
    "mask = pd.isna(p_df.p0_ioc) | pd.isna(p_df.p1_ioc)\n",
    "p_df.loc[mask, ['p0_name', 'p0_id', 'p0_ioc','p1_name', 'p1_id', 'p1_ioc'] ]"
   ]
  },
  {
   "cell_type": "code",
   "execution_count": 57,
   "metadata": {},
   "outputs": [],
   "source": [
    "players.loc[players['new_id']==7092, 'ioc'] = 'SYR'\n",
    "players.loc[players['new_id']==22595, 'ioc'] = 'CHN'\n",
    "players.loc[players['new_id']==22594, 'ioc'] = 'CHN'\n",
    "players.loc[players['new_id']==25527, 'ioc'] = 'XKX'\n",
    "players.loc[players['new_id']==22585, 'ioc'] = 'CHN'\n"
   ]
  },
  {
   "cell_type": "code",
   "execution_count": 58,
   "metadata": {},
   "outputs": [],
   "source": [
    "p0_mask = pd.isna(p_df.p0_ioc)\n",
    "p_df.loc[p0_mask, 'p0_ioc'] = players.loc[p_df.loc[p0_mask, 'p0_id'], 'ioc'].values\n",
    "\n",
    "p1_mask = pd.isna(p_df.p1_ioc)\n",
    "p_df.loc[p1_mask, 'p1_ioc'] = players.loc[p_df.loc[p1_mask, 'p1_id'], 'ioc'].values"
   ]
  },
  {
   "cell_type": "code",
   "execution_count": 59,
   "metadata": {},
   "outputs": [
    {
     "data": {
      "text/plain": [
       "0"
      ]
     },
     "execution_count": 59,
     "metadata": {},
     "output_type": "execute_result"
    }
   ],
   "source": [
    "p_df.isna().sum().sum()"
   ]
  },
  {
   "cell_type": "code",
   "execution_count": 60,
   "metadata": {},
   "outputs": [
    {
     "data": {
      "text/plain": [
       "(142084, 28)"
      ]
     },
     "execution_count": 60,
     "metadata": {},
     "output_type": "execute_result"
    }
   ],
   "source": [
    "p_df.shape"
   ]
  },
  {
   "cell_type": "markdown",
   "metadata": {},
   "source": [
    "### Duplicate Data"
   ]
  },
  {
   "cell_type": "markdown",
   "metadata": {},
   "source": [
    "Una vez hecho este formato, se puede duplicar el dataset, dando la vuelta a los player 1 & 0, e invirtiendo las caracteristicas. "
   ]
  },
  {
   "cell_type": "code",
   "execution_count": 61,
   "metadata": {},
   "outputs": [],
   "source": [
    "map_cols = dict()\n",
    "\n",
    "for attr in player_data:\n",
    "    map_cols['p0'+attr] = 'p1'+attr\n",
    "    map_cols['p1'+attr] = 'p0'+attr\n",
    "\n",
    "inverse_df = p_df.rename(map_cols)\n",
    "inverse_df['y'] = inverse_df['y'].str.replace(\"0\", \"X\").str.replace(\"1\", \"0\").str.replace(\"X\", \"1\")"
   ]
  },
  {
   "cell_type": "code",
   "execution_count": 62,
   "metadata": {},
   "outputs": [
    {
     "data": {
      "text/plain": [
       "(284168, 28)"
      ]
     },
     "execution_count": 62,
     "metadata": {},
     "output_type": "execute_result"
    }
   ],
   "source": [
    "final_df = pd.concat([p_df, inverse_df])\n",
    "final_df.to_parquet('processed_data.parquet')\n",
    "\n",
    "final_df.sample(frac=1, random_state=111)\n",
    "final_df.shape"
   ]
  },
  {
   "cell_type": "code",
   "execution_count": 63,
   "metadata": {},
   "outputs": [],
   "source": [
    "players.to_parquet('players_data.parquet')"
   ]
  },
  {
   "cell_type": "markdown",
   "metadata": {},
   "source": [
    "## ELO - Rating"
   ]
  },
  {
   "cell_type": "markdown",
   "metadata": {},
   "source": [
    "El indice (rank) actual de ATP y WTA determina la semilla de entrada en el campeonato, los puntos del ranking se deciden por el stage del tournement al que han llegado y la reputacion del propio tournemente en el que han participado en las ultimas 52 semanas. \n",
    "\n",
    "ELO rankings son famoss sistemas de evaluar a un profesionales deportistas. ELO rating se basa en el rendimiento del jugador en sus ultimos partidos, bajo la asunción de normal distribution. \n",
    "\n",
    "Otro ranking - Glicko model. Una mejora de ELO. Se añaden parametros con la desviacion estandar, el factor de tiempo, y los rankings del oponente, añadiendo el factor de la incertidumbre, la varianza, y la dificultad del oponente. Un rating del oponente se supone que es aleatorio $\\theta$ que sigue una distribución normal con la fuerza media del jugador, $r$, y un grado de incertidumbre de fuerza del otro jugador, $oppr$, es decir $\\theta | r ~ N(r, oppr)$. Así se representa las expectativas del jugador. Si se añade el modelo bayesiano, se va regulando dicho ranking con mas juegos. \n",
    "\n",
    "En general se sigue el ppio de Pareto 80-20, el 80% de los partidos son ganados por el 20% de los jugadores. "
   ]
  },
  {
   "cell_type": "code",
   "execution_count": null,
   "metadata": {},
   "outputs": [],
   "source": []
  },
  {
   "cell_type": "code",
   "execution_count": null,
   "metadata": {},
   "outputs": [],
   "source": []
  },
  {
   "cell_type": "markdown",
   "metadata": {},
   "source": [
    "### James-Stein Estimator "
   ]
  },
  {
   "cell_type": "markdown",
   "metadata": {},
   "source": []
  }
 ],
 "metadata": {
  "kernelspec": {
   "display_name": ".venv",
   "language": "python",
   "name": "python3"
  },
  "language_info": {
   "codemirror_mode": {
    "name": "ipython",
    "version": 3
   },
   "file_extension": ".py",
   "mimetype": "text/x-python",
   "name": "python",
   "nbconvert_exporter": "python",
   "pygments_lexer": "ipython3",
   "version": "3.11.9"
  }
 },
 "nbformat": 4,
 "nbformat_minor": 2
}
